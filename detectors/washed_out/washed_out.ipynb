{
 "cells": [
  {
   "cell_type": "code",
   "execution_count": 35,
   "metadata": {},
   "outputs": [],
   "source": [
    "import cv2\n",
    "import numpy as np\n",
    "from PIL import Image\n",
    "\n",
    "def is_washed_out(image_path):\n",
    "    # Load the image using OpenCV\n",
    "    image = Image.open(image_path)\n",
    "    image = np.array(image)\n",
    "    \n",
    "    # Convert the image to grayscale for simplicity\n",
    "    gray_image = cv2.cvtColor(image, cv2.COLOR_BGR2GRAY)\n",
    "    \n",
    "    washed_out_score = (np.max(gray_image) - np.min(gray_image)) / 255 * 100\n",
    "\n",
    "    if washed_out_score < 80 and np.mean(gray_image) > 170:\n",
    "        return True, washed_out_score\n",
    "    else:\n",
    "        return False, washed_out_score\n"
   ]
  },
  {
   "cell_type": "code",
   "execution_count": 36,
   "metadata": {},
   "outputs": [
    {
     "name": "stdout",
     "output_type": "stream",
     "text": [
      "The image '../../dataset\\washedOut.png' is washed out. Score: 55.68627450980392\n",
      "The image '../../dataset\\washedOut2.jpeg' is washed out. Score: 65.49019607843137\n"
     ]
    }
   ],
   "source": [
    "from glob import glob\n",
    "paths = glob(\"../../dataset/*\")\n",
    "for image_path in paths:\n",
    "    # image_path = \"../../dataset/N230701288.jpg\"\n",
    "    washed_out, score = is_washed_out(image_path)\n",
    "\n",
    "    if washed_out is not None:\n",
    "        if washed_out:\n",
    "            print(f\"The image '{image_path}' is washed out. Score: {score}\")\n",
    "        # else:\n",
    "        #     print(f\"The image '{image_path}' is not washed out.\")"
   ]
  },
  {
   "cell_type": "code",
   "execution_count": null,
   "metadata": {},
   "outputs": [],
   "source": []
  }
 ],
 "metadata": {
  "kernelspec": {
   "display_name": "icao-server",
   "language": "python",
   "name": "python3"
  },
  "language_info": {
   "codemirror_mode": {
    "name": "ipython",
    "version": 3
   },
   "file_extension": ".py",
   "mimetype": "text/x-python",
   "name": "python",
   "nbconvert_exporter": "python",
   "pygments_lexer": "ipython3",
   "version": "3.10.12"
  }
 },
 "nbformat": 4,
 "nbformat_minor": 2
}
