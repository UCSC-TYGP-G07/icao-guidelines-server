{
 "cells": [
  {
   "cell_type": "code",
   "execution_count": 91,
   "metadata": {},
   "outputs": [],
   "source": [
    "import math\n",
    "\n",
    "def get_roll(face_landmarks):\n",
    "    left_eye_center_x = (face_landmarks[133].x - face_landmarks[33].x)/2\n",
    "    left_eye_center_y = (face_landmarks[133].y - face_landmarks[33].y)/2\n",
    "    right_eye_center_x = (face_landmarks[362].x - face_landmarks[263].x)/2\n",
    "    right_eye_center_y = (face_landmarks[362].y - face_landmarks[263].y)/2\n",
    "    dx = abs(right_eye_center_x - left_eye_center_x)\n",
    "    dy = abs(right_eye_center_y - left_eye_center_y)\n",
    "\n",
    "    # Calculate roll in degrees\n",
    "    roll = abs(math.atan2(dy, dx)) / math.pi * 180\n",
    "    return roll"
   ]
  },
  {
   "cell_type": "code",
   "execution_count": 92,
   "metadata": {},
   "outputs": [],
   "source": [
    "def get_yaw(face_landmarks):\n",
    "    left_dist = abs(face_landmarks[130].x - face_landmarks[127].x)\n",
    "    right_dist = abs(face_landmarks[359].x - face_landmarks[356].x)\n",
    "    face_width = abs(face_landmarks[356].x - face_landmarks[127].x)\n",
    "    return (abs(right_dist - left_dist)/face_width)/0.05 * 8"
   ]
  },
  {
   "cell_type": "code",
   "execution_count": 93,
   "metadata": {},
   "outputs": [],
   "source": [
    "# STEP 1: Import the necessary modules.\n",
    "import mediapipe as mp\n",
    "from mediapipe.tasks import python\n",
    "from mediapipe.tasks.python import vision\n",
    "import cv2\n",
    "\n",
    "# STEP 2: Create an FaceLandmarker object.\n",
    "def get_landmarks(image_path):\n",
    "    base_options = python.BaseOptions(model_asset_path='../utilities/face_landmarker.task')\n",
    "    options = vision.FaceLandmarkerOptions(base_options=base_options,\n",
    "                                        output_face_blendshapes=True,\n",
    "                                        output_facial_transformation_matrixes=True,\n",
    "                                        num_faces=1)\n",
    "    detector = vision.FaceLandmarker.create_from_options(options)\n",
    "\n",
    "    # STEP 3: Load the input image\n",
    "    frame = cv2.imread(image_path)\n",
    "    image = mp.Image(image_format=mp.ImageFormat.SRGB, data=frame)\n",
    "\n",
    "    # STEP 4: Detect face landmarks from the input image.\n",
    "    detection_result = detector.detect(image)\n",
    "\n",
    "    # STEP 5: Process the detection result. In this case, visualize it.\n",
    "    annotated_image = draw_landmarks_on_image(image.numpy_view(), detection_result)\n",
    "\n",
    "    face_landmarks_list = detection_result.face_landmarks\n",
    "    face_landmarks = face_landmarks_list[0]\n",
    "    return face_landmarks"
   ]
  },
  {
   "cell_type": "code",
   "execution_count": 95,
   "metadata": {},
   "outputs": [],
   "source": [
    "import glob\n",
    "import pandas as pd\n",
    "from datetime import datetime\n",
    "\n",
    "all_images = glob.glob(\"D:/oneid_backend/icao-guidelines-server/dataset/*\")"
   ]
  },
  {
   "cell_type": "code",
   "execution_count": 96,
   "metadata": {},
   "outputs": [],
   "source": [
    "def logger(image, is_valid, path=\"./\"):\n",
    "    time_str = datetime.now().strftime(\"%d/%m/%Y %H:%M:%S\")\n",
    "    df_headers = pd.DataFrame({\n",
    "        'log_time': [time_str],\n",
    "        'image': [image],\n",
    "        'is_valid': [is_valid],\n",
    "    })\n",
    "    df_headers.to_csv(f'{path}roll_pitch_yaw_test.csv', mode='a', index=False, header=False)"
   ]
  },
  {
   "cell_type": "code",
   "execution_count": 98,
   "metadata": {},
   "outputs": [
    {
     "ename": "NameError",
     "evalue": "name 'get_yaw' is not defined",
     "output_type": "error",
     "traceback": [
      "\u001b[1;31m---------------------------------------------------------------------------\u001b[0m",
      "\u001b[1;31mNameError\u001b[0m                                 Traceback (most recent call last)",
      "\u001b[1;32md:\\oneid_backend\\icao-guidelines-server\\detectors\\roll_pitch_yaw\\roll_pitch_yaw_test.ipynb Cell 6\u001b[0m line \u001b[0;36m7\n\u001b[0;32m      <a href='vscode-notebook-cell:/d%3A/oneid_backend/icao-guidelines-server/detectors/roll_pitch_yaw/roll_pitch_yaw_test.ipynb#X13sZmlsZQ%3D%3D?line=4'>5</a>\u001b[0m landmarks \u001b[39m=\u001b[39m get_landmarks(image_path)\n\u001b[0;32m      <a href='vscode-notebook-cell:/d%3A/oneid_backend/icao-guidelines-server/detectors/roll_pitch_yaw/roll_pitch_yaw_test.ipynb#X13sZmlsZQ%3D%3D?line=5'>6</a>\u001b[0m \u001b[39m# roll = get_roll(landmarks)\u001b[39;00m\n\u001b[1;32m----> <a href='vscode-notebook-cell:/d%3A/oneid_backend/icao-guidelines-server/detectors/roll_pitch_yaw/roll_pitch_yaw_test.ipynb#X13sZmlsZQ%3D%3D?line=6'>7</a>\u001b[0m yaw \u001b[39m=\u001b[39m get_yaw(landmarks)\n\u001b[0;32m      <a href='vscode-notebook-cell:/d%3A/oneid_backend/icao-guidelines-server/detectors/roll_pitch_yaw/roll_pitch_yaw_test.ipynb#X13sZmlsZQ%3D%3D?line=7'>8</a>\u001b[0m \u001b[39m# logger(image_path, roll)\u001b[39;00m\n\u001b[0;32m      <a href='vscode-notebook-cell:/d%3A/oneid_backend/icao-guidelines-server/detectors/roll_pitch_yaw/roll_pitch_yaw_test.ipynb#X13sZmlsZQ%3D%3D?line=8'>9</a>\u001b[0m \u001b[39mprint\u001b[39m(image_path, yaw)\n",
      "\u001b[1;31mNameError\u001b[0m: name 'get_yaw' is not defined"
     ]
    }
   ],
   "source": [
    "# time duration\n",
    "start_time = datetime.now()\n",
    "\n",
    "for image_path in all_images:\n",
    "    landmarks = get_landmarks(image_path)\n",
    "    # roll = get_roll(landmarks)\n",
    "    yaw = get_yaw(landmarks)\n",
    "    # logger(image_path, roll)\n",
    "    print(image_path, yaw)"
   ]
  },
  {
   "cell_type": "code",
   "execution_count": null,
   "metadata": {},
   "outputs": [],
   "source": []
  }
 ],
 "metadata": {
  "kernelspec": {
   "display_name": "icao-server",
   "language": "python",
   "name": "python3"
  },
  "language_info": {
   "codemirror_mode": {
    "name": "ipython",
    "version": 3
   },
   "file_extension": ".py",
   "mimetype": "text/x-python",
   "name": "python",
   "nbconvert_exporter": "python",
   "pygments_lexer": "ipython3",
   "version": "3.10.12"
  }
 },
 "nbformat": 4,
 "nbformat_minor": 2
}
