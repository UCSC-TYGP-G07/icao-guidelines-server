{
 "cells": [
  {
   "cell_type": "code",
   "execution_count": 59,
   "metadata": {},
   "outputs": [],
   "source": [
    "import math\n",
    "\n",
    "def get_roll(face_landmarks):\n",
    "    left_eye_center_x = (face_landmarks[133].x - face_landmarks[33].x)/2\n",
    "    left_eye_center_y = (face_landmarks[133].y - face_landmarks[33].y)/2\n",
    "    right_eye_center_x = (face_landmarks[362].x - face_landmarks[263].x)/2\n",
    "    right_eye_center_y = (face_landmarks[362].y - face_landmarks[263].y)/2\n",
    "    dx = abs(right_eye_center_x - left_eye_center_x)\n",
    "    dy = abs(right_eye_center_y - left_eye_center_y)\n",
    "\n",
    "    # Calculate roll in degrees\n",
    "    roll = abs(math.atan2(dy, dx)) / math.pi * 180\n",
    "    return roll"
   ]
  },
  {
   "cell_type": "code",
   "execution_count": 60,
   "metadata": {},
   "outputs": [
    {
     "name": "stdout",
     "output_type": "stream",
     "text": [
      "0.5651738121595722\n"
     ]
    }
   ],
   "source": [
    "# STEP 1: Import the necessary modules.\n",
    "import mediapipe as mp\n",
    "from mediapipe.tasks import python\n",
    "from mediapipe.tasks.python import vision\n",
    "import cv2\n",
    "\n",
    "# STEP 2: Create an FaceLandmarker object.\n",
    "base_options = python.BaseOptions(model_asset_path='../utilities/face_landmarker.task')\n",
    "options = vision.FaceLandmarkerOptions(base_options=base_options,\n",
    "                                       output_face_blendshapes=True,\n",
    "                                       output_facial_transformation_matrixes=True,\n",
    "                                       num_faces=1)\n",
    "detector = vision.FaceLandmarker.create_from_options(options)\n",
    "\n",
    "# STEP 3: Load the input image\n",
    "frame = cv2.imread(\"D:/oneid_backend/icao-guidelines-server/dataset/N230101660.JPG\")\n",
    "image = mp.Image(image_format=mp.ImageFormat.SRGB, data=frame)\n",
    "\n",
    "# STEP 4: Detect face landmarks from the input image.\n",
    "detection_result = detector.detect(image)\n",
    "\n",
    "# STEP 5: Process the detection result. In this case, visualize it.\n",
    "annotated_image = draw_landmarks_on_image(image.numpy_view(), detection_result)\n",
    "\n",
    "face_landmarks_list = detection_result.face_landmarks\n",
    "face_landmarks = face_landmarks_list[0]\n",
    "image_roll = get_roll(face_landmarks)\n",
    "print(image_roll)"
   ]
  },
  {
   "cell_type": "code",
   "execution_count": null,
   "metadata": {},
   "outputs": [],
   "source": []
  }
 ],
 "metadata": {
  "kernelspec": {
   "display_name": "icao-server",
   "language": "python",
   "name": "python3"
  },
  "language_info": {
   "codemirror_mode": {
    "name": "ipython",
    "version": 3
   },
   "file_extension": ".py",
   "mimetype": "text/x-python",
   "name": "python",
   "nbconvert_exporter": "python",
   "pygments_lexer": "ipython3",
   "version": "3.10.12"
  }
 },
 "nbformat": 4,
 "nbformat_minor": 2
}
